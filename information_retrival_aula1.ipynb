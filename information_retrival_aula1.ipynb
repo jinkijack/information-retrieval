{
  "nbformat": 4,
  "nbformat_minor": 0,
  "metadata": {
    "colab": {
      "provenance": [],
      "authorship_tag": "ABX9TyNoq/+aO0aFp0MHaVC+JuQa",
      "include_colab_link": true
    },
    "kernelspec": {
      "name": "python3",
      "display_name": "Python 3"
    },
    "language_info": {
      "name": "python"
    }
  },
  "cells": [
    {
      "cell_type": "markdown",
      "metadata": {
        "id": "view-in-github",
        "colab_type": "text"
      },
      "source": [
        "<a href=\"https://colab.research.google.com/github/jinkijack/information-retrieval/blob/main/information_retrival_aula1.ipynb\" target=\"_parent\"><img src=\"https://colab.research.google.com/assets/colab-badge.svg\" alt=\"Open In Colab\"/></a>"
      ]
    },
    {
      "cell_type": "code",
      "execution_count": 10,
      "metadata": {
        "id": "1ysAIxdtl0ri"
      },
      "outputs": [],
      "source": [
        "#impors\n",
        "import requests as rq\n",
        "import pandas as pd\n",
        "from bs4 import BeautifulSoup as bs"
      ]
    },
    {
      "cell_type": "code",
      "source": [
        "url = 'https://www.adorocinema.com/filmes/numero-cinemas/'\n",
        "response = rq.get(url)\n",
        "if response.status_code == 200:\n",
        "  print(f\"conseguiu acessar o link\")\n",
        "  print(response)\n",
        "else:\n",
        "  print(f\"não conseguiu acessar o link\")\n",
        "  print(response)"
      ],
      "metadata": {
        "colab": {
          "base_uri": "https://localhost:8080/"
        },
        "id": "gmO-6JW9mLlp",
        "outputId": "da4b45f3-a0b7-4824-c95d-b9ef6a661261"
      },
      "execution_count": 11,
      "outputs": [
        {
          "output_type": "stream",
          "name": "stdout",
          "text": [
            "conseguiu acessar o link\n",
            "<Response [200]>\n"
          ]
        }
      ]
    },
    {
      "cell_type": "code",
      "source": [
        "if(response.status_code == 200):\n",
        "  #BeautifulSoup para analisar o conteúdo HTML\n",
        "  soup = bs(response.text, 'html.parser')\n",
        "  #Procurando todas as classe a com a classe meta-title-link\n",
        "  movies = soup.find_all('a', class_='meta-title-link')\n",
        "  #lista de titulos dos filmes\n",
        "  titles = []\n",
        ""
      ],
      "metadata": {
        "id": "-lSXlSyRnCQR"
      },
      "execution_count": null,
      "outputs": []
    }
  ]
}